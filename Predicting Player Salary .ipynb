{
 "cells": [
  {
   "cell_type": "code",
   "execution_count": 23,
   "metadata": {},
   "outputs": [],
   "source": [
    "from pandas import DataFrame, Series\n",
    "import matplotlib.pyplot as plt\n",
    "import pandas as pd\n",
    "import numpy as np"
   ]
  },
  {
   "cell_type": "code",
   "execution_count": 24,
   "metadata": {},
   "outputs": [
    {
     "data": {
      "text/html": [
       "<div>\n",
       "<style scoped>\n",
       "    .dataframe tbody tr th:only-of-type {\n",
       "        vertical-align: middle;\n",
       "    }\n",
       "\n",
       "    .dataframe tbody tr th {\n",
       "        vertical-align: top;\n",
       "    }\n",
       "\n",
       "    .dataframe thead th {\n",
       "        text-align: right;\n",
       "    }\n",
       "</style>\n",
       "<table border=\"1\" class=\"dataframe\">\n",
       "  <thead>\n",
       "    <tr style=\"text-align: right;\">\n",
       "      <th></th>\n",
       "      <th>Age</th>\n",
       "      <th>MP</th>\n",
       "      <th>PER</th>\n",
       "      <th>TS%</th>\n",
       "      <th>3PAr</th>\n",
       "      <th>FTr</th>\n",
       "      <th>ORB%</th>\n",
       "      <th>DRB%</th>\n",
       "      <th>TRB%</th>\n",
       "      <th>AST%</th>\n",
       "      <th>...</th>\n",
       "      <th>DBPM</th>\n",
       "      <th>BPM</th>\n",
       "      <th>VORP</th>\n",
       "      <th>MPG</th>\n",
       "      <th>WS/Season</th>\n",
       "      <th>DWS/Season</th>\n",
       "      <th>G/82</th>\n",
       "      <th>PlayerSalary</th>\n",
       "      <th>PMV</th>\n",
       "      <th>EPP</th>\n",
       "    </tr>\n",
       "  </thead>\n",
       "  <tbody>\n",
       "    <tr>\n",
       "      <th>0</th>\n",
       "      <td>23</td>\n",
       "      <td>1605</td>\n",
       "      <td>30.1</td>\n",
       "      <td>0.619</td>\n",
       "      <td>0.088</td>\n",
       "      <td>0.500</td>\n",
       "      <td>7.4</td>\n",
       "      <td>25.4</td>\n",
       "      <td>16.4</td>\n",
       "      <td>23.3</td>\n",
       "      <td>...</td>\n",
       "      <td>1.6</td>\n",
       "      <td>7.3</td>\n",
       "      <td>3.8</td>\n",
       "      <td>37.325581</td>\n",
       "      <td>14.829787</td>\n",
       "      <td>3.489362</td>\n",
       "      <td>75.021277</td>\n",
       "      <td>22471910.0</td>\n",
       "      <td>0.38</td>\n",
       "      <td>0.15</td>\n",
       "    </tr>\n",
       "    <tr>\n",
       "      <th>1</th>\n",
       "      <td>28</td>\n",
       "      <td>1433</td>\n",
       "      <td>29.6</td>\n",
       "      <td>0.618</td>\n",
       "      <td>0.504</td>\n",
       "      <td>0.473</td>\n",
       "      <td>1.5</td>\n",
       "      <td>13.7</td>\n",
       "      <td>7.6</td>\n",
       "      <td>45.4</td>\n",
       "      <td>...</td>\n",
       "      <td>0.3</td>\n",
       "      <td>9.9</td>\n",
       "      <td>4.3</td>\n",
       "      <td>35.825000</td>\n",
       "      <td>15.004255</td>\n",
       "      <td>3.140426</td>\n",
       "      <td>69.787234</td>\n",
       "      <td>28299399.0</td>\n",
       "      <td>0.37</td>\n",
       "      <td>0.08</td>\n",
       "    </tr>\n",
       "    <tr>\n",
       "      <th>2</th>\n",
       "      <td>24</td>\n",
       "      <td>1525</td>\n",
       "      <td>28.3</td>\n",
       "      <td>0.630</td>\n",
       "      <td>0.103</td>\n",
       "      <td>0.449</td>\n",
       "      <td>8.1</td>\n",
       "      <td>23.6</td>\n",
       "      <td>16.1</td>\n",
       "      <td>11.6</td>\n",
       "      <td>...</td>\n",
       "      <td>1.4</td>\n",
       "      <td>4.7</td>\n",
       "      <td>2.6</td>\n",
       "      <td>36.309524</td>\n",
       "      <td>13.495833</td>\n",
       "      <td>3.587500</td>\n",
       "      <td>71.750000</td>\n",
       "      <td>23775506.0</td>\n",
       "      <td>0.35</td>\n",
       "      <td>0.11</td>\n",
       "    </tr>\n",
       "    <tr>\n",
       "      <th>3</th>\n",
       "      <td>33</td>\n",
       "      <td>1738</td>\n",
       "      <td>28.4</td>\n",
       "      <td>0.628</td>\n",
       "      <td>0.257</td>\n",
       "      <td>0.322</td>\n",
       "      <td>3.6</td>\n",
       "      <td>20.1</td>\n",
       "      <td>12.0</td>\n",
       "      <td>43.1</td>\n",
       "      <td>...</td>\n",
       "      <td>2.0</td>\n",
       "      <td>9.0</td>\n",
       "      <td>4.9</td>\n",
       "      <td>36.978723</td>\n",
       "      <td>13.259574</td>\n",
       "      <td>2.965957</td>\n",
       "      <td>82.000000</td>\n",
       "      <td>33285709.0</td>\n",
       "      <td>0.34</td>\n",
       "      <td>0.00</td>\n",
       "    </tr>\n",
       "    <tr>\n",
       "      <th>4</th>\n",
       "      <td>22</td>\n",
       "      <td>1844</td>\n",
       "      <td>24.0</td>\n",
       "      <td>0.633</td>\n",
       "      <td>0.263</td>\n",
       "      <td>0.315</td>\n",
       "      <td>9.5</td>\n",
       "      <td>30.8</td>\n",
       "      <td>20.0</td>\n",
       "      <td>10.2</td>\n",
       "      <td>...</td>\n",
       "      <td>1.2</td>\n",
       "      <td>5.0</td>\n",
       "      <td>3.3</td>\n",
       "      <td>35.461538</td>\n",
       "      <td>12.930769</td>\n",
       "      <td>3.626923</td>\n",
       "      <td>82.000000</td>\n",
       "      <td>6216840.0</td>\n",
       "      <td>0.32</td>\n",
       "      <td>0.26</td>\n",
       "    </tr>\n",
       "  </tbody>\n",
       "</table>\n",
       "<p>5 rows × 29 columns</p>\n",
       "</div>"
      ],
      "text/plain": [
       "   Age    MP   PER    TS%   3PAr    FTr  ORB%  DRB%  TRB%  AST%  ...   DBPM  \\\n",
       "0   23  1605  30.1  0.619  0.088  0.500   7.4  25.4  16.4  23.3  ...    1.6   \n",
       "1   28  1433  29.6  0.618  0.504  0.473   1.5  13.7   7.6  45.4  ...    0.3   \n",
       "2   24  1525  28.3  0.630  0.103  0.449   8.1  23.6  16.1  11.6  ...    1.4   \n",
       "3   33  1738  28.4  0.628  0.257  0.322   3.6  20.1  12.0  43.1  ...    2.0   \n",
       "4   22  1844  24.0  0.633  0.263  0.315   9.5  30.8  20.0  10.2  ...    1.2   \n",
       "\n",
       "   BPM  VORP        MPG  WS/Season  DWS/Season       G/82  PlayerSalary   PMV  \\\n",
       "0  7.3   3.8  37.325581  14.829787    3.489362  75.021277    22471910.0  0.38   \n",
       "1  9.9   4.3  35.825000  15.004255    3.140426  69.787234    28299399.0  0.37   \n",
       "2  4.7   2.6  36.309524  13.495833    3.587500  71.750000    23775506.0  0.35   \n",
       "3  9.0   4.9  36.978723  13.259574    2.965957  82.000000    33285709.0  0.34   \n",
       "4  5.0   3.3  35.461538  12.930769    3.626923  82.000000     6216840.0  0.32   \n",
       "\n",
       "   EPP   \n",
       "0  0.15  \n",
       "1  0.08  \n",
       "2  0.11  \n",
       "3  0.00  \n",
       "4  0.26  \n",
       "\n",
       "[5 rows x 29 columns]"
      ]
     },
     "execution_count": 24,
     "metadata": {},
     "output_type": "execute_result"
    }
   ],
   "source": [
    "df = pd.read_csv('NBA PMV by Team - League Data.csv')\n",
    "df.head()"
   ]
  },
  {
   "cell_type": "code",
   "execution_count": 25,
   "metadata": {},
   "outputs": [],
   "source": [
    "df = df.loc[df.MP >= 985]"
   ]
  },
  {
   "cell_type": "code",
   "execution_count": 26,
   "metadata": {},
   "outputs": [
    {
     "data": {
      "text/html": [
       "<div>\n",
       "<style scoped>\n",
       "    .dataframe tbody tr th:only-of-type {\n",
       "        vertical-align: middle;\n",
       "    }\n",
       "\n",
       "    .dataframe tbody tr th {\n",
       "        vertical-align: top;\n",
       "    }\n",
       "\n",
       "    .dataframe thead th {\n",
       "        text-align: right;\n",
       "    }\n",
       "</style>\n",
       "<table border=\"1\" class=\"dataframe\">\n",
       "  <thead>\n",
       "    <tr style=\"text-align: right;\">\n",
       "      <th></th>\n",
       "      <th>Age</th>\n",
       "      <th>MP</th>\n",
       "      <th>PER</th>\n",
       "      <th>TS%</th>\n",
       "      <th>3PAr</th>\n",
       "      <th>FTr</th>\n",
       "      <th>ORB%</th>\n",
       "      <th>DRB%</th>\n",
       "      <th>TRB%</th>\n",
       "      <th>AST%</th>\n",
       "      <th>...</th>\n",
       "      <th>WS/48</th>\n",
       "      <th>OBPM</th>\n",
       "      <th>DBPM</th>\n",
       "      <th>BPM</th>\n",
       "      <th>VORP</th>\n",
       "      <th>MPG</th>\n",
       "      <th>WS/Season</th>\n",
       "      <th>DWS/Season</th>\n",
       "      <th>G/82</th>\n",
       "      <th>PlayerSalary</th>\n",
       "    </tr>\n",
       "  </thead>\n",
       "  <tbody>\n",
       "    <tr>\n",
       "      <th>0</th>\n",
       "      <td>23</td>\n",
       "      <td>1605</td>\n",
       "      <td>30.1</td>\n",
       "      <td>0.619</td>\n",
       "      <td>0.088</td>\n",
       "      <td>0.500</td>\n",
       "      <td>7.4</td>\n",
       "      <td>25.4</td>\n",
       "      <td>16.4</td>\n",
       "      <td>23.3</td>\n",
       "      <td>...</td>\n",
       "      <td>0.253</td>\n",
       "      <td>5.7</td>\n",
       "      <td>1.6</td>\n",
       "      <td>7.3</td>\n",
       "      <td>3.8</td>\n",
       "      <td>37.325581</td>\n",
       "      <td>14.829787</td>\n",
       "      <td>3.489362</td>\n",
       "      <td>75.021277</td>\n",
       "      <td>22471910.0</td>\n",
       "    </tr>\n",
       "    <tr>\n",
       "      <th>1</th>\n",
       "      <td>28</td>\n",
       "      <td>1433</td>\n",
       "      <td>29.6</td>\n",
       "      <td>0.618</td>\n",
       "      <td>0.504</td>\n",
       "      <td>0.473</td>\n",
       "      <td>1.5</td>\n",
       "      <td>13.7</td>\n",
       "      <td>7.6</td>\n",
       "      <td>45.4</td>\n",
       "      <td>...</td>\n",
       "      <td>0.287</td>\n",
       "      <td>9.6</td>\n",
       "      <td>0.3</td>\n",
       "      <td>9.9</td>\n",
       "      <td>4.3</td>\n",
       "      <td>35.825000</td>\n",
       "      <td>15.004255</td>\n",
       "      <td>3.140426</td>\n",
       "      <td>69.787234</td>\n",
       "      <td>28299399.0</td>\n",
       "    </tr>\n",
       "    <tr>\n",
       "      <th>2</th>\n",
       "      <td>24</td>\n",
       "      <td>1525</td>\n",
       "      <td>28.3</td>\n",
       "      <td>0.630</td>\n",
       "      <td>0.103</td>\n",
       "      <td>0.449</td>\n",
       "      <td>8.1</td>\n",
       "      <td>23.6</td>\n",
       "      <td>16.1</td>\n",
       "      <td>11.6</td>\n",
       "      <td>...</td>\n",
       "      <td>0.248</td>\n",
       "      <td>3.3</td>\n",
       "      <td>1.4</td>\n",
       "      <td>4.7</td>\n",
       "      <td>2.6</td>\n",
       "      <td>36.309524</td>\n",
       "      <td>13.495833</td>\n",
       "      <td>3.587500</td>\n",
       "      <td>71.750000</td>\n",
       "      <td>23775506.0</td>\n",
       "    </tr>\n",
       "    <tr>\n",
       "      <th>3</th>\n",
       "      <td>33</td>\n",
       "      <td>1738</td>\n",
       "      <td>28.4</td>\n",
       "      <td>0.628</td>\n",
       "      <td>0.257</td>\n",
       "      <td>0.322</td>\n",
       "      <td>3.6</td>\n",
       "      <td>20.1</td>\n",
       "      <td>12.0</td>\n",
       "      <td>43.1</td>\n",
       "      <td>...</td>\n",
       "      <td>0.211</td>\n",
       "      <td>7.0</td>\n",
       "      <td>2.0</td>\n",
       "      <td>9.0</td>\n",
       "      <td>4.9</td>\n",
       "      <td>36.978723</td>\n",
       "      <td>13.259574</td>\n",
       "      <td>2.965957</td>\n",
       "      <td>82.000000</td>\n",
       "      <td>33285709.0</td>\n",
       "    </tr>\n",
       "    <tr>\n",
       "      <th>4</th>\n",
       "      <td>22</td>\n",
       "      <td>1844</td>\n",
       "      <td>24.0</td>\n",
       "      <td>0.633</td>\n",
       "      <td>0.263</td>\n",
       "      <td>0.315</td>\n",
       "      <td>9.5</td>\n",
       "      <td>30.8</td>\n",
       "      <td>20.0</td>\n",
       "      <td>10.2</td>\n",
       "      <td>...</td>\n",
       "      <td>0.214</td>\n",
       "      <td>3.8</td>\n",
       "      <td>1.2</td>\n",
       "      <td>5.0</td>\n",
       "      <td>3.3</td>\n",
       "      <td>35.461538</td>\n",
       "      <td>12.930769</td>\n",
       "      <td>3.626923</td>\n",
       "      <td>82.000000</td>\n",
       "      <td>6216840.0</td>\n",
       "    </tr>\n",
       "  </tbody>\n",
       "</table>\n",
       "<p>5 rows × 27 columns</p>\n",
       "</div>"
      ],
      "text/plain": [
       "   Age    MP   PER    TS%   3PAr    FTr  ORB%  DRB%  TRB%  AST%      ...       \\\n",
       "0   23  1605  30.1  0.619  0.088  0.500   7.4  25.4  16.4  23.3      ...        \n",
       "1   28  1433  29.6  0.618  0.504  0.473   1.5  13.7   7.6  45.4      ...        \n",
       "2   24  1525  28.3  0.630  0.103  0.449   8.1  23.6  16.1  11.6      ...        \n",
       "3   33  1738  28.4  0.628  0.257  0.322   3.6  20.1  12.0  43.1      ...        \n",
       "4   22  1844  24.0  0.633  0.263  0.315   9.5  30.8  20.0  10.2      ...        \n",
       "\n",
       "   WS/48  OBPM  DBPM  BPM  VORP        MPG  WS/Season  DWS/Season       G/82  \\\n",
       "0  0.253   5.7   1.6  7.3   3.8  37.325581  14.829787    3.489362  75.021277   \n",
       "1  0.287   9.6   0.3  9.9   4.3  35.825000  15.004255    3.140426  69.787234   \n",
       "2  0.248   3.3   1.4  4.7   2.6  36.309524  13.495833    3.587500  71.750000   \n",
       "3  0.211   7.0   2.0  9.0   4.9  36.978723  13.259574    2.965957  82.000000   \n",
       "4  0.214   3.8   1.2  5.0   3.3  35.461538  12.930769    3.626923  82.000000   \n",
       "\n",
       "   PlayerSalary  \n",
       "0    22471910.0  \n",
       "1    28299399.0  \n",
       "2    23775506.0  \n",
       "3    33285709.0  \n",
       "4     6216840.0  \n",
       "\n",
       "[5 rows x 27 columns]"
      ]
     },
     "execution_count": 26,
     "metadata": {},
     "output_type": "execute_result"
    }
   ],
   "source": [
    "df.columns = df.columns.str.strip()\n",
    "df.drop(['PMV','EPP'], axis=1, inplace=True)\n",
    "df.head()"
   ]
  },
  {
   "cell_type": "code",
   "execution_count": 27,
   "metadata": {},
   "outputs": [],
   "source": [
    "from sklearn.model_selection import train_test_split\n",
    "\n",
    "xprep = df.drop('PlayerSalary', axis=1)\n",
    "\n",
    "x_train, x_cv, y_train, y_cv = train_test_split(xprep, df.PlayerSalary, test_size =0.3)"
   ]
  },
  {
   "cell_type": "code",
   "execution_count": 28,
   "metadata": {},
   "outputs": [
    {
     "name": "stdout",
     "output_type": "stream",
     "text": [
      "0.31736031559967126\n",
      "0.4716962442467021\n"
     ]
    }
   ],
   "source": [
    "from sklearn.linear_model import LinearRegression\n",
    "lreg = LinearRegression()\n",
    "lreg.fit(x_train,y_train)\n",
    "r2 = lreg.score(x_cv,y_cv)\n",
    "n=x_train.shape[0]\n",
    "p=x_train.shape[1]\n",
    "adjR2 = 1-(1-r2)*(n-1)/(n-p-1)\n",
    "print(adjR2)\n",
    "print(r2)"
   ]
  },
  {
   "cell_type": "code",
   "execution_count": 29,
   "metadata": {},
   "outputs": [
    {
     "name": "stdout",
     "output_type": "stream",
     "text": [
      "AxesSubplot(0.125,0.125;0.775x0.755)\n"
     ]
    },
    {
     "data": {
      "image/png": "[encoded data removed]",
      "text/plain": [
       "<Figure size 432x288 with 1 Axes>"
      ]
     },
     "metadata": {
      "needs_background": "light"
     },
     "output_type": "display_data"
    }
   ],
   "source": [
    "predictors = x_train.columns\n",
    "coef = Series(data=lreg.coef_, index=predictors).sort_values()\n",
    "print (coef.plot(kind='bar', title='Regression with all predictors'))"
   ]
  },
  {
   "cell_type": "code",
   "execution_count": 30,
   "metadata": {},
   "outputs": [
    {
     "name": "stdout",
     "output_type": "stream",
     "text": [
      "Training RMSEA: 5045154.69071854\n",
      "Testing RMSEA: 6723608.280065202\n",
      "difference = 1678453.5893466622\n"
     ]
    },
    {
     "data": {
      "image/png": "[encoded data removed]",
      "text/plain": [
       "<Figure size 432x288 with 1 Axes>"
      ]
     },
     "metadata": {
      "needs_background": "light"
     },
     "output_type": "display_data"
    }
   ],
   "source": [
    "predictions = lreg.predict(x_train)\n",
    "mse = np.mean((predictions - y_train)**2)\n",
    "tr=np.sqrt(mse)\n",
    "print(\"Training RMSEA: \"+str(tr))\n",
    "\n",
    "predictions = lreg.predict(x_cv)\n",
    "mse = np.mean((predictions - y_cv)**2)\n",
    "ts=np.sqrt(mse)\n",
    "print(\"Testing RMSEA: \"+str(ts))\n",
    "print(\"difference = \"+str(ts-tr))\n",
    "\n",
    "plt.scatter(y_cv, predictions)\n",
    "plt.xlabel(\"True Values\")\n",
    "plt.ylabel(\"Predictions\")\n",
    "plt.show()\n"
   ]
  },
  {
   "cell_type": "code",
   "execution_count": 31,
   "metadata": {},
   "outputs": [
    {
     "name": "stdout",
     "output_type": "stream",
     "text": [
      "0.2905938566346604\n"
     ]
    },
    {
     "name": "stderr",
     "output_type": "stream",
     "text": [
      "C:\\Users\\Y\\Anaconda3\\lib\\site-packages\\sklearn\\linear_model\\coordinate_descent.py:492: ConvergenceWarning: Objective did not converge. You might want to increase the number of iterations. Fitting data with very small alpha may cause precision problems.\n",
      "  ConvergenceWarning)\n"
     ]
    }
   ],
   "source": [
    "from sklearn.linear_model import ElasticNet\n",
    "alpha=1\n",
    "ratio=1\n",
    "ENreg = ElasticNet(alpha=alpha, l1_ratio=ratio)\n",
    "ENreg.fit(x_train,y_train)\n",
    "\n",
    "r2 = ENreg.score(x_cv,y_cv)\n",
    "n=x_train.shape[0]\n",
    "p=x_train.shape[1]\n",
    "adjR2 = 1-(1-r2)*(n-1)/(n-p-1)\n",
    "print(adjR2)"
   ]
  },
  {
   "cell_type": "code",
   "execution_count": 32,
   "metadata": {},
   "outputs": [
    {
     "name": "stdout",
     "output_type": "stream",
     "text": [
      "AxesSubplot(0.125,0.125;0.775x0.755)\n"
     ]
    },
    {
     "data": {
      "image/png": "[encoded data removed]",
      "text/plain": [
       "<Figure size 432x288 with 1 Axes>"
      ]
     },
     "metadata": {
      "needs_background": "light"
     },
     "output_type": "display_data"
    }
   ],
   "source": [
    "predictors = x_train.columns\n",
    "coef = Series(ENreg.coef_,predictors).sort_values()\n",
    "coef=coef[coef!=0]\n",
    "print(coef.plot(kind='bar', title='Alpha='+str(alpha)+', L1 Ratio='+str(ratio)))"
   ]
  },
  {
   "cell_type": "code",
   "execution_count": null,
   "metadata": {},
   "outputs": [],
   "source": []
  }
 ],
 "metadata": {
  "kernelspec": {
   "display_name": "Python 3",
   "language": "python",
   "name": "python3"
  },
  "language_info": {
   "codemirror_mode": {
    "name": "ipython",
    "version": 3
   },
   "file_extension": ".py",
   "mimetype": "text/x-python",
   "name": "python",
   "nbconvert_exporter": "python",
   "pygments_lexer": "ipython3",
   "version": "3.7.1"
  }
 },
 "nbformat": 4,
 "nbformat_minor": 2
}
